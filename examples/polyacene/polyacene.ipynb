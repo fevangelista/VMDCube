{
 "cells": [
  {
   "cell_type": "markdown",
   "metadata": {},
   "source": [
    "# VMDCube Examples\n",
    "\n",
    "## Plotting two contour levels using transparet surfaces"
   ]
  },
  {
   "cell_type": "code",
   "execution_count": null,
   "metadata": {},
   "outputs": [],
   "source": [
    "from vmdcube import VMDCube\n",
    "\n",
    "vmd = VMDCube()\n",
    "vmd.isovalues = [0.08,-0.08,0.01,-0.01] # Isovalues to be used for the isosurfaces\n",
    "vmd.positive_color = \"#CC1000\" # Color for positive isovalues\n",
    "vmd.negative_color = \"#109A10\" # Color for negative isovalues\n",
    "vmd.diffuse = 0.75 # default is 0.5\n",
    "vmd.opacity = 0.4 # default is 1.0\n",
    "vmd.outline = 2.0 # default is 0.0\n",
    "vmd.outlinewidth = 0.6 # default is 0.0\n",
    "vmd.shadows = \"on\"\n",
    "vmd.rx = -40\n",
    "vmd.ry = 20\n",
    "vmd.rz = 0\n",
    "\n",
    "vmd.scale = 1.7\n",
    "vmd.height = 600 # Height of the output image\n",
    "vmd.width = 600 # Width of the output image\n",
    "vmd.run()\n",
    "vmd.show()"
   ]
  }
 ],
 "metadata": {
  "kernelspec": {
   "display_name": "forte",
   "language": "python",
   "name": "python3"
  },
  "language_info": {
   "codemirror_mode": {
    "name": "ipython",
    "version": 3
   },
   "file_extension": ".py",
   "mimetype": "text/x-python",
   "name": "python",
   "nbconvert_exporter": "python",
   "pygments_lexer": "ipython3",
   "version": "3.11.10"
  }
 },
 "nbformat": 4,
 "nbformat_minor": 2
}
