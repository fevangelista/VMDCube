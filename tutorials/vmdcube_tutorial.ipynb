{
 "cells": [
  {
   "cell_type": "markdown",
   "metadata": {},
   "source": [
    "# VMDCube Tutorial\n",
    "\n",
    "This Jupyter Notebook demonstrates how to use the VMDCube package to visualize a cube file in 3D using VMD (Visual Molecular Dynamics). The example assumes you have VMD installed and available in your system's PATH.\n",
    "\n",
    "To run this example you will need to have VMD installed and available in your system's PATH.\n",
    "- You can download VMD from the official website: [VMD Download](https://www.ks.uiuc.edu/Research/vmd/). Follow the installation instructions for your operating system.\n",
    "- Make sure to set the `VMDPATH` variable to the path where VMD is installed on your system. For example, if VMD is installed in `/usr/local/bin/vmd`, set `VMDPATH` to `/usr/local/bin/vmd`."
   ]
  },
  {
   "cell_type": "markdown",
   "metadata": {},
   "source": [
    "---\n",
    "\n",
    "## Basic Usage\n",
    "\n",
    "To run VMDCube we start by importing the `VMDCube` class from the `vmdcube` module:"
   ]
  },
  {
   "cell_type": "code",
   "execution_count": null,
   "metadata": {},
   "outputs": [],
   "source": [
    "from vmdcube import VMDCube"
   ]
  },
  {
   "cell_type": "markdown",
   "metadata": {},
   "source": [
    "In the next step we create an instance of the `VMDCube` class and pass the path to directory containing the cube files we want to visualize.\n",
    "\n",
    "By default, VMDCube will look for files in the same directory as the notebook, but since in our case the cube files are in the `cubes` directory, we need to specify the path to that directory.\n",
    "\n",
    "Lastly, we can call the `run` method to visualize the cube file."
   ]
  },
  {
   "cell_type": "code",
   "execution_count": null,
   "metadata": {},
   "outputs": [],
   "source": [
    "vmd = VMDCube()\n",
    "vmd.cubedir = \"cubes\" # Directory containing the cube files (default: \".\")\n",
    "vmd.run()"
   ]
  },
  {
   "cell_type": "markdown",
   "metadata": {},
   "source": [
    "If successful, the `run` method will produce images of the cube files in the same directory that contains the original cube files. We can check this by looking for the `*.tga` files in the `cubes` directory:"
   ]
  },
  {
   "cell_type": "code",
   "execution_count": null,
   "metadata": {},
   "outputs": [],
   "source": [
    "!ls cubes/*.tga"
   ]
  },
  {
   "cell_type": "markdown",
   "metadata": {},
   "source": [
    "In Jupyter, we can conveniently show the rendered cube files using the `VMDCube.show()` method directly in the notebook:"
   ]
  },
  {
   "cell_type": "code",
   "execution_count": null,
   "metadata": {},
   "outputs": [],
   "source": [
    "vmd.show()"
   ]
  },
  {
   "cell_type": "markdown",
   "metadata": {},
   "source": [
    "## Setting VMDCube parameters\n",
    "\n",
    "VMDCube has several parameters that can be set to customize the visualization. These can be passed as keyword arguments when creating the `VMDCube` instance.\n",
    "\n",
    "Here we pass the `cubedir` parameter and set the `scale` attribute to 2.0 to increase the size of the rendering (default = 1.0)."
   ]
  },
  {
   "cell_type": "code",
   "execution_count": null,
   "metadata": {},
   "outputs": [],
   "source": [
    "vmd = VMDCube(cubedir=\"cubes\",scale=2)\n",
    "vmd.run()\n",
    "vmd.show()"
   ]
  },
  {
   "cell_type": "markdown",
   "metadata": {},
   "source": [
    "## Controlling the position and orientation of the cube\n",
    "To control the position the cube in space, you can set the `tx`, `ty`, and `tz` parameters.\n",
    " hese parameters represent the translation along the x, y, and z axes, respectively. The translation values are specified in Angstroms and by default are set to 0.0.\n",
    "\n",
    "The rotation of the cube can be controlled using the `rx`, `ry`, and `rz` parameters. These parameters represent the rotation angles around the x, y, and z axes, respectively. The angles are specified in degrees and their default values are designed to rotate the cube to a more visually appealing position.\n",
    "Note that rotations are applied in the order of x, y, and z and refer to a fixed coordinate system. In this coordate system x is **right**, y is **up**, z is **out of the screen**.\n",
    "\n",
    "The following example shows the molecule with rotatation angles set to 0."
   ]
  },
  {
   "cell_type": "code",
   "execution_count": null,
   "metadata": {},
   "outputs": [],
   "source": [
    "vmd = VMDCube()\n",
    "vmd.cubedir = \"cubes\"\n",
    "vmd.rx = 0.\n",
    "vmd.ry = 0.\n",
    "vmd.rz = 0.\n",
    "vmd.run()\n",
    "vmd.show()"
   ]
  },
  {
   "cell_type": "markdown",
   "metadata": {},
   "source": [
    "---\n",
    "\n",
    "## Modifying the look of rendered cube files\n",
    "\n",
    "The `VMDCube` offers several options to customize the rendering of cube files.\n",
    "\n",
    "In the following example, we modify the color scheme and the scale of the cube file. The simplest option is to specify which color should be used to render positive and negative isosurfaces via the attributes `positive_color` and `negative_color`. Colors can be specified in several ways:\n",
    "- As a tuple of RGB values (0-255), e.g., `(255, 0, 0)` for red\n",
    "- As an hexadecimal string, e.g., `\"#FF0000\"` for red\n",
    "\n",
    "In the following example we illustrate the use of both methods to specify the color of the isosurfaces."
   ]
  },
  {
   "cell_type": "code",
   "execution_count": null,
   "metadata": {},
   "outputs": [],
   "source": [
    "vmd = VMDCube()\n",
    "vmd.cubedir = \"cubes\" # Directory containing the cube files\n",
    "vmd.positive_color = (200,0,200) # RGB tuple for positive values\n",
    "vmd.negative_color = \"#FFD700\" # Hex color for negative values\n",
    "vmd.scale = 2.0\n",
    "vmd.height = 800 # Height of the image in pixels\n",
    "vmd.width = 800 # Width of the image in pixels\n",
    "vmd.run()\n",
    "vmd.show()"
   ]
  },
  {
   "cell_type": "markdown",
   "metadata": {},
   "source": [
    "The user can also provide specific values for the isosurface levels to be rendered. By default, VMDCube will try to read these values in the comment section of the cube file (this feature is supported for cube files generated with Psi4). If this information is not present, VMDCube will render the isosurfaces at levels -0.5 and 0.5.\n",
    "\n",
    "You can specify any isocountour value by setting the `isovalues` attribute to a list of floats. In this example, we set the isovalue to -0.1 and 0.1 and directly specify the colors to be used:"
   ]
  },
  {
   "cell_type": "code",
   "execution_count": null,
   "metadata": {},
   "outputs": [],
   "source": [
    "vmd = VMDCube()\n",
    "vmd.cubedir = \"cubes\" # Directory containing the cube files\n",
    "vmd.isovalues = [-0.1, 0.1] # List of isovalues\n",
    "vmd.colors = [\"#DD00DD\", \"#FFD700\"]\n",
    "vmd.scale = 2.0\n",
    "vmd.shadows = \"on\" # Enable shadows\n",
    "vmd.run()\n",
    "vmd.show()"
   ]
  },
  {
   "cell_type": "markdown",
   "metadata": {},
   "source": [
    "## Modifying the rendering of surfaces\n",
    "\n",
    "<!-- \n",
    "- **Ambient**: Determines how strongly a material reflects ambient light, providing a uniform illumination based on the object's color.\n",
    "- **Diffuse**: Influences how light is scattered from a surface, with diffuse reflections being independent of the viewing direction but dependent on the light source's direction.\n",
    "- **Opacity**: Controls the transparency of a material, with values ranging from 0 (fully transparent) to 1 (fully opaque).\n",
    "- **Specular**: Controls the intensity of specular (or shiny) reflections, creating highlights. Higher values produce smaller, brighter highlights.\n",
    "- **Shininess**: Determines the size of the specular reflection angle. A smaller value results in a wider angle and a shinier appearance. \n",
    "- **Outline** and **Outlinewidth**: Control the outline of the isosurfaces. This is useful for highlighting the edges of the surfaces. -->\n",
    "\n",
    "VMDCube offers the option to customize the properties of the isosurfaces. The following attributes can be modified:\n",
    "- **Ambient**: Controls how much ambient (background) light the material reflects. Helps soften shadows.\n",
    "- **Diffuse**: Determines how the surface reflects light depending on the light source direction, not the viewer's position.\n",
    "- **Specular**: Controls the brightness of shiny highlights on the surface.\n",
    "- **Shininess**: Defines how sharp or broad the specular highlights are. Higher values = smoother surface.\n",
    "- **Mirror**: Sets the reflectivity for ray-traced mirror-like reflections. **Warning**: Setting this to values other than 0.0  can significantly increase rendering time.\n",
    "- **Opacity**: Ranges from 1 (fully opaque) to 0 (fully transparent). Default transparency often set to 0.3.\n",
    "- **Outline**: Enhances edges that are nearly perpendicular to the camera by darkening them.\n",
    "- **OutlineWidth**: Adjusts how wide the darkened edge region appears.\n",
    "\n",
    "In the following example, we modify the opacity of the isosurfaces to 0.75 (making the surfaces slightly transparent) and increase the diffuse value to 0.75. The outline and outline width are set to 2.0 and 0.6, respectively, to create a thin outline around the isosurfaces.\n",
    " All other values are kept at their default values. After running this cell, play with the values to see how they affect the rendering of the cube file."
   ]
  },
  {
   "cell_type": "code",
   "execution_count": null,
   "metadata": {},
   "outputs": [],
   "source": [
    "vmd = VMDCube()\n",
    "vmd.cubedir = \"cubes\" # Directory containing the cube files\n",
    "vmd.colors = [\"#DD00DD\", \"#FFD700\"]\n",
    "\n",
    "vmd.ambient = 0.6 # default is 0.6\n",
    "vmd.diffuse = 0.75 # default is 0.5\n",
    "vmd.mirror = 0.0 # default is 0.0\n",
    "vmd.opacity = 0.75 # default is 1.0\n",
    "vmd.specular = 0.96 # default is 0.96\n",
    "vmd.shininess = 0.75 # default is 0.75\n",
    "vmd.outline = 2.0 # default is 0.0\n",
    "vmd.outlinewidth = 0.6 # default is 0.0\n",
    "\n",
    "vmd.scale = 2.0\n",
    "vmd.height = 800 # Height of the output image\n",
    "vmd.width = 800 # Width of the output image\n",
    "vmd.run()\n",
    "vmd.show()"
   ]
  },
  {
   "cell_type": "markdown",
   "metadata": {},
   "source": [
    "## Preset materials\n",
    "\n",
    "VMDCube also provides a set of preset materials that can be used to quickly apply a specific look to the isosurfaces. The available presets are:\n",
    "- **default**: A shiny material.\n",
    "- **old**: The default used in previos versions of MVDCube.\n",
    "- **glass**: A transparent material that simulates glass-like properties.\n",
    "- **shiny**: A highly reflective material that creates bright highlights."
   ]
  },
  {
   "cell_type": "code",
   "execution_count": null,
   "metadata": {},
   "outputs": [],
   "source": [
    "vmd = VMDCube()\n",
    "vmd.cubedir = \"cubes\" # Directory containing the cube files\n",
    "vmd.material = \"glass\" # Material type\n",
    "vmd.scale = 2.0\n",
    "vmd.height = 800\n",
    "vmd.width = 800\n",
    "vmd.run()\n",
    "vmd.show()"
   ]
  }
 ],
 "metadata": {
  "kernelspec": {
   "display_name": "forte",
   "language": "python",
   "name": "python3"
  },
  "language_info": {
   "codemirror_mode": {
    "name": "ipython",
    "version": 3
   },
   "file_extension": ".py",
   "mimetype": "text/x-python",
   "name": "python",
   "nbconvert_exporter": "python",
   "pygments_lexer": "ipython3",
   "version": "3.11.10"
  }
 },
 "nbformat": 4,
 "nbformat_minor": 2
}
